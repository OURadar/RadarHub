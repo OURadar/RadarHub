{
 "cells": [
  {
   "cell_type": "markdown",
   "id": "a4bd07e4",
   "metadata": {},
   "source": [
    "# Colormap Generator"
   ]
  },
  {
   "cell_type": "code",
   "execution_count": null,
   "id": "87090689",
   "metadata": {},
   "outputs": [],
   "source": [
    "import os\n",
    "import matplotlib.pyplot as plt\n",
    "import numpy as np\n",
    "import PIL\n",
    "\n",
    "import colormap\n",
    "import importlib"
   ]
  },
  {
   "cell_type": "code",
   "execution_count": null,
   "id": "7e9f5f1c",
   "metadata": {},
   "outputs": [],
   "source": [
    "ar = np.ones((6, 256, 4), dtype=float)\n",
    "# ar[0, :, :] = colormap.zmap()\n",
    "ar[0, :, :] = colormap.rsz()\n",
    "ar[1, :, :] = colormap.vmap()\n",
    "ar[2, :, :] = colormap.wmap()\n",
    "ar[3, :, :] = colormap.rsd()\n",
    "ar[4, :, :] = colormap.pmap()\n",
    "ar[5, :, :] = colormap.rsr()\n",
    "\n",
    "# The very first shade is transparent\n",
    "ar[:, 0, :] = 0\n",
    "ar *= 255;"
   ]
  },
  {
   "cell_type": "code",
   "execution_count": null,
   "id": "0be54140",
   "metadata": {},
   "outputs": [],
   "source": [
    "s = 20\n",
    "im = PIL.Image.fromarray(np.array(ar[:, -50:, :], dtype=np.uint8), 'RGBA')\n",
    "im2 = im.resize((im.width * s, im.height * s), PIL.Image.NEAREST)\n",
    "display(im2)"
   ]
  },
  {
   "cell_type": "code",
   "execution_count": null,
   "id": "de91acdb",
   "metadata": {},
   "outputs": [],
   "source": [
    "im = PIL.Image.fromarray(np.array(ar, dtype=np.uint8), 'RGBA')\n",
    "im.save(os.path.expanduser('~/Developer/radarhub/frontend/static/images/colormap.png'))"
   ]
  },
  {
   "cell_type": "code",
   "execution_count": null,
   "id": "2857591c",
   "metadata": {},
   "outputs": [],
   "source": [
    "plt.close()"
   ]
  },
  {
   "cell_type": "code",
   "execution_count": null,
   "id": "fd5e5e3e",
   "metadata": {},
   "outputs": [],
   "source": []
  }
 ],
 "metadata": {
  "kernelspec": {
   "display_name": "Python 3.8.11 64-bit ('3.8.11')",
   "language": "python",
   "name": "python3"
  },
  "language_info": {
   "codemirror_mode": {
    "name": "ipython",
    "version": 3
   },
   "file_extension": ".py",
   "mimetype": "text/x-python",
   "name": "python",
   "nbconvert_exporter": "python",
   "pygments_lexer": "ipython3",
   "version": "3.11.4"
  },
  "vscode": {
   "interpreter": {
    "hash": "d66ea690619089ea00105108b5ae6165d08fdf4eb32ff73acb137e9868bf3028"
   }
  }
 },
 "nbformat": 4,
 "nbformat_minor": 5
}
